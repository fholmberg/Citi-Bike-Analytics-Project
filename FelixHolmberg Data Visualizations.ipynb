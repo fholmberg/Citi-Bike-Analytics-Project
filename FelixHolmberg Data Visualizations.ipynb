{
 "cells": [
  {
   "cell_type": "code",
   "execution_count": 1,
   "metadata": {},
   "outputs": [],
   "source": [
    "from google.cloud import bigquery #need this library to connect the environment to BigQuery\n",
    "import os #to interact with the underlying operating system of my device \n",
    "import altair as alt #data visualization library\n",
    "import numpy as np #mathematical and logical operations\n",
    "import pandas as pd #data manipulation and analysis "
   ]
  },
  {
   "cell_type": "markdown",
   "metadata": {},
   "source": [
    "## Connect the Jupyterlab environment with BigQuery "
   ]
  },
  {
   "cell_type": "code",
   "execution_count": 2,
   "metadata": {},
   "outputs": [],
   "source": [
    "os.environ['GOOGLE_APPLICATION_CREDENTIALS'] ='/Users/felixholmberg/Documents/takehometest-349914-dac2179cc293.json'\n",
    "bigquery_client = bigquery.Client(project='takehometest-349914')"
   ]
  },
  {
   "cell_type": "markdown",
   "metadata": {},
   "source": [
    "## Data Visualization 1\n",
    "\n",
    "Objective of visualization:\n",
    "- Generate a scatter plot to visualize the relationship between the total number of trips\n",
    "against the percentage of the population (age 16 and above) without cars by Zip code.\n",
    "\n",
    "Insights:\n",
    "- The visualization seems to tell us that there is a relationship between the %age of\n",
    "people without cars and the total number of bike trips initiated in those zip codes. ○ This makes sense as people who don't have cars are more likely to use\n",
    "alternative modes of transportation to travel."
   ]
  },
  {
   "cell_type": "markdown",
   "metadata": {},
   "source": [
    "## Import the data from BigQuery"
   ]
  },
  {
   "cell_type": "code",
   "execution_count": 37,
   "metadata": {},
   "outputs": [
    {
     "name": "stdout",
     "output_type": "stream",
     "text": [
      "  zip_code           city  total_trips  no_car_to_population_rate\n",
      "0    94102  San Francisco        59638                     0.2984\n",
      "1    10010  New York City      1808471                     0.4775\n",
      "2    10069  New York City        57378                     0.4734\n",
      "3    10037  New York City         4783                     0.3617\n",
      "4    11221  New York City        70635                     0.3274\n"
     ]
    }
   ],
   "source": [
    "QUERY = \"\"\"\n",
    "    SELECT start_station_zip_code as zip_code, start_station_landmark as city,\n",
    "    COUNT(*) AS total_trips, #count the number of trips by Zip Code\n",
    "    ROUND((MAX(start_station_no_car)/ MAX(start_station_pop_16_over)),4) as no_car_to_population_rate #Get the No Car to Population Rate \n",
    "    FROM `takehometest-349914.takehometest.NYC_SF_data_stacked_enhanced_census`\n",
    "    WHERE start_station_no_car > 0 # to avoid BadRequest: 400 division by zero: 0 / 0 errors\n",
    "    AND start_station_pop_16_over > 0 # to avoid BadRequest: 400 division by zero: 0 / 0 errors\n",
    "    GROUP BY start_station_zip_code, start_station_landmark #aggregate by zip code and landmark (city)\n",
    " \"\"\"\n",
    "\n",
    "dataframe = (bigquery_client.query(QUERY).result().to_dataframe(create_bqstorage_client=True,))\n",
    "print(dataframe.head())"
   ]
  },
  {
   "cell_type": "code",
   "execution_count": 48,
   "metadata": {},
   "outputs": [
    {
     "data": {
      "text/html": [
       "\n",
       "<div id=\"altair-viz-f60f9e491c55440ea4ebc1189ae84e6f\"></div>\n",
       "<script type=\"text/javascript\">\n",
       "  var VEGA_DEBUG = (typeof VEGA_DEBUG == \"undefined\") ? {} : VEGA_DEBUG;\n",
       "  (function(spec, embedOpt){\n",
       "    let outputDiv = document.currentScript.previousElementSibling;\n",
       "    if (outputDiv.id !== \"altair-viz-f60f9e491c55440ea4ebc1189ae84e6f\") {\n",
       "      outputDiv = document.getElementById(\"altair-viz-f60f9e491c55440ea4ebc1189ae84e6f\");\n",
       "    }\n",
       "    const paths = {\n",
       "      \"vega\": \"https://cdn.jsdelivr.net/npm//vega@5?noext\",\n",
       "      \"vega-lib\": \"https://cdn.jsdelivr.net/npm//vega-lib?noext\",\n",
       "      \"vega-lite\": \"https://cdn.jsdelivr.net/npm//vega-lite@4.17.0?noext\",\n",
       "      \"vega-embed\": \"https://cdn.jsdelivr.net/npm//vega-embed@6?noext\",\n",
       "    };\n",
       "\n",
       "    function maybeLoadScript(lib, version) {\n",
       "      var key = `${lib.replace(\"-\", \"\")}_version`;\n",
       "      return (VEGA_DEBUG[key] == version) ?\n",
       "        Promise.resolve(paths[lib]) :\n",
       "        new Promise(function(resolve, reject) {\n",
       "          var s = document.createElement('script');\n",
       "          document.getElementsByTagName(\"head\")[0].appendChild(s);\n",
       "          s.async = true;\n",
       "          s.onload = () => {\n",
       "            VEGA_DEBUG[key] = version;\n",
       "            return resolve(paths[lib]);\n",
       "          };\n",
       "          s.onerror = () => reject(`Error loading script: ${paths[lib]}`);\n",
       "          s.src = paths[lib];\n",
       "        });\n",
       "    }\n",
       "\n",
       "    function showError(err) {\n",
       "      outputDiv.innerHTML = `<div class=\"error\" style=\"color:red;\">${err}</div>`;\n",
       "      throw err;\n",
       "    }\n",
       "\n",
       "    function displayChart(vegaEmbed) {\n",
       "      vegaEmbed(outputDiv, spec, embedOpt)\n",
       "        .catch(err => showError(`Javascript Error: ${err.message}<br>This usually means there's a typo in your chart specification. See the javascript console for the full traceback.`));\n",
       "    }\n",
       "\n",
       "    if(typeof define === \"function\" && define.amd) {\n",
       "      requirejs.config({paths});\n",
       "      require([\"vega-embed\"], displayChart, err => showError(`Error loading script: ${err.message}`));\n",
       "    } else {\n",
       "      maybeLoadScript(\"vega\", \"5\")\n",
       "        .then(() => maybeLoadScript(\"vega-lite\", \"4.17.0\"))\n",
       "        .then(() => maybeLoadScript(\"vega-embed\", \"6\"))\n",
       "        .catch(showError)\n",
       "        .then(() => displayChart(vegaEmbed));\n",
       "    }\n",
       "  })({\"config\": {\"view\": {\"continuousWidth\": 400, \"continuousHeight\": 300}, \"title\": {\"fontSize\": 14}}, \"data\": {\"name\": \"data-259e7ff5b716c9d66b4c9c0049376a1d\"}, \"mark\": {\"type\": \"circle\", \"size\": 100}, \"encoding\": {\"color\": {\"field\": \"no_car_to_population_rate\", \"scale\": {\"range\": [\"red\", \"darkgreen\"]}, \"title\": \"Color Coding based on Pct\", \"type\": \"quantitative\"}, \"size\": {\"field\": \"total_trips\", \"type\": \"quantitative\"}, \"tooltip\": [{\"field\": \"total_trips\", \"title\": \"# Trips\", \"type\": \"quantitative\"}, {\"field\": \"no_car_to_population_rate\", \"format\": \".2%\", \"title\": \"Pct of Population w/o Cars\", \"type\": \"quantitative\"}, {\"field\": \"zip_code\", \"title\": \"Zip Code\", \"type\": \"nominal\"}], \"x\": {\"axis\": {\"format\": \"%\", \"labels\": true, \"ticks\": true, \"title\": \"Pct of Population w/o Cars\"}, \"field\": \"no_car_to_population_rate\", \"type\": \"quantitative\"}, \"y\": {\"axis\": {\"labels\": true, \"ticks\": true, \"title\": \"Total Trips\"}, \"field\": \"total_trips\", \"type\": \"quantitative\"}}, \"height\": 400, \"selection\": {\"selector025\": {\"type\": \"interval\", \"bind\": \"scales\", \"encodings\": [\"x\", \"y\"]}}, \"title\": \"Relationship between Pct of Population w/o Cars and number of Bike Trips by Zipcode\", \"width\": 600, \"$schema\": \"https://vega.github.io/schema/vega-lite/v4.17.0.json\", \"datasets\": {\"data-259e7ff5b716c9d66b4c9c0049376a1d\": [{\"zip_code\": \"94102\", \"city\": \"San Francisco\", \"total_trips\": 59638, \"no_car_to_population_rate\": 0.2984}, {\"zip_code\": \"10010\", \"city\": \"New York City\", \"total_trips\": 1808471, \"no_car_to_population_rate\": 0.4775}, {\"zip_code\": \"10069\", \"city\": \"New York City\", \"total_trips\": 57378, \"no_car_to_population_rate\": 0.4734}, {\"zip_code\": \"10037\", \"city\": \"New York City\", \"total_trips\": 4783, \"no_car_to_population_rate\": 0.3617}, {\"zip_code\": \"11221\", \"city\": \"New York City\", \"total_trips\": 70635, \"no_car_to_population_rate\": 0.3274}, {\"zip_code\": \"10002\", \"city\": \"New York City\", \"total_trips\": 2595885, \"no_car_to_population_rate\": 0.3756}, {\"zip_code\": \"10005\", \"city\": \"New York City\", \"total_trips\": 398019, \"no_car_to_population_rate\": 0.7378}, {\"zip_code\": \"11238\", \"city\": \"New York City\", \"total_trips\": 442778, \"no_car_to_population_rate\": 0.4255}, {\"zip_code\": \"94063\", \"city\": \"Redwood City\", \"total_trips\": 4996, \"no_car_to_population_rate\": 0.0255}, {\"zip_code\": \"94103\", \"city\": \"San Francisco\", \"total_trips\": 163701, \"no_car_to_population_rate\": 0.2751}, {\"zip_code\": \"94107\", \"city\": \"San Francisco\", \"total_trips\": 218514, \"no_car_to_population_rate\": 0.1417}, {\"zip_code\": \"11103\", \"city\": \"New York City\", \"total_trips\": 15143, \"no_car_to_population_rate\": 0.3905}, {\"zip_code\": \"11237\", \"city\": \"New York City\", \"total_trips\": 7, \"no_car_to_population_rate\": 0.4243}, {\"zip_code\": \"94133\", \"city\": \"San Francisco\", \"total_trips\": 23041, \"no_car_to_population_rate\": 0.245}, {\"zip_code\": \"94108\", \"city\": \"San Francisco\", \"total_trips\": 8608, \"no_car_to_population_rate\": 0.3922}, {\"zip_code\": \"10007\", \"city\": \"New York City\", \"total_trips\": 1063965, \"no_car_to_population_rate\": 0.443}, {\"zip_code\": \"11216\", \"city\": \"New York City\", \"total_trips\": 186805, \"no_car_to_population_rate\": 0.3925}, {\"zip_code\": \"10004\", \"city\": \"New York City\", \"total_trips\": 784428, \"no_car_to_population_rate\": 0.5725}, {\"zip_code\": \"10012\", \"city\": \"New York City\", \"total_trips\": 1900088, \"no_car_to_population_rate\": 0.5344}, {\"zip_code\": \"10011\", \"city\": \"New York City\", \"total_trips\": 4506026, \"no_car_to_population_rate\": 0.5311}, {\"zip_code\": \"11206\", \"city\": \"New York City\", \"total_trips\": 204461, \"no_car_to_population_rate\": 0.3604}, {\"zip_code\": \"94040\", \"city\": \"Mountain View\", \"total_trips\": 4978, \"no_car_to_population_rate\": 0.0303}, {\"zip_code\": \"10028\", \"city\": \"New York City\", \"total_trips\": 307141, \"no_car_to_population_rate\": 0.5135}, {\"zip_code\": \"10128\", \"city\": \"New York City\", \"total_trips\": 186132, \"no_car_to_population_rate\": 0.4742}, {\"zip_code\": \"10009\", \"city\": \"New York City\", \"total_trips\": 2223692, \"no_car_to_population_rate\": 0.4712}, {\"zip_code\": \"10018\", \"city\": \"New York City\", \"total_trips\": 1666108, \"no_car_to_population_rate\": 0.5925}, {\"zip_code\": \"10016\", \"city\": \"New York City\", \"total_trips\": 2573623, \"no_car_to_population_rate\": 0.5764}, {\"zip_code\": \"94306\", \"city\": \"Palo Alto\", \"total_trips\": 2444, \"no_car_to_population_rate\": 0.0123}, {\"zip_code\": \"11102\", \"city\": \"New York City\", \"total_trips\": 29947, \"no_car_to_population_rate\": 0.3557}, {\"zip_code\": \"94104\", \"city\": \"San Francisco\", \"total_trips\": 13811, \"no_car_to_population_rate\": 0.2444}, {\"zip_code\": \"11106\", \"city\": \"New York City\", \"total_trips\": 43651, \"no_car_to_population_rate\": 0.3601}, {\"zip_code\": \"10003\", \"city\": \"New York City\", \"total_trips\": 4691041, \"no_car_to_population_rate\": 0.4419}, {\"zip_code\": \"10280\", \"city\": \"New York City\", \"total_trips\": 424322, \"no_car_to_population_rate\": 0.6174}, {\"zip_code\": \"11232\", \"city\": \"New York City\", \"total_trips\": 7422, \"no_car_to_population_rate\": 0.3492}, {\"zip_code\": \"11109\", \"city\": \"New York City\", \"total_trips\": 3353, \"no_car_to_population_rate\": 0.4796}, {\"zip_code\": \"11220\", \"city\": \"New York City\", \"total_trips\": 959, \"no_car_to_population_rate\": 0.3383}, {\"zip_code\": \"94105\", \"city\": \"San Francisco\", \"total_trips\": 218162, \"no_car_to_population_rate\": 0.2742}, {\"zip_code\": \"11105\", \"city\": \"New York City\", \"total_trips\": 14979, \"no_car_to_population_rate\": 0.2712}, {\"zip_code\": \"10282\", \"city\": \"New York City\", \"total_trips\": 659895, \"no_car_to_population_rate\": 0.4818}, {\"zip_code\": \"11231\", \"city\": \"New York City\", \"total_trips\": 248550, \"no_car_to_population_rate\": 0.3197}, {\"zip_code\": \"11217\", \"city\": \"New York City\", \"total_trips\": 545582, \"no_car_to_population_rate\": 0.4121}, {\"zip_code\": \"11211\", \"city\": \"New York City\", \"total_trips\": 1339910, \"no_car_to_population_rate\": 0.4114}, {\"zip_code\": \"95112\", \"city\": \"San Jose\", \"total_trips\": 16937, \"no_car_to_population_rate\": 0.0304}, {\"zip_code\": \"10463\", \"city\": \"New York City\", \"total_trips\": 13, \"no_car_to_population_rate\": 0.2025}, {\"zip_code\": \"11101\", \"city\": \"New York City\", \"total_trips\": 277385, \"no_car_to_population_rate\": 0.3908}, {\"zip_code\": \"10025\", \"city\": \"New York City\", \"total_trips\": 275732, \"no_car_to_population_rate\": 0.377}, {\"zip_code\": \"10027\", \"city\": \"New York City\", \"total_trips\": 58351, \"no_car_to_population_rate\": 0.3206}, {\"zip_code\": \"10021\", \"city\": \"New York City\", \"total_trips\": 333613, \"no_car_to_population_rate\": 0.4225}, {\"zip_code\": \"07302\", \"city\": \"New York City\", \"total_trips\": 32, \"no_car_to_population_rate\": 0.2419}, {\"zip_code\": \"10022\", \"city\": \"New York City\", \"total_trips\": 1144810, \"no_car_to_population_rate\": 0.4678}, {\"zip_code\": \"10014\", \"city\": \"New York City\", \"total_trips\": 2470224, \"no_car_to_population_rate\": 0.5423}, {\"zip_code\": \"10019\", \"city\": \"New York City\", \"total_trips\": 2435754, \"no_car_to_population_rate\": 0.5659}, {\"zip_code\": \"11225\", \"city\": \"New York City\", \"total_trips\": 10836, \"no_car_to_population_rate\": 0.3855}, {\"zip_code\": \"94043\", \"city\": \"Mountain View\", \"total_trips\": 3318, \"no_car_to_population_rate\": 0.0331}, {\"zip_code\": \"10075\", \"city\": \"New York City\", \"total_trips\": 133951, \"no_car_to_population_rate\": 0.3595}, {\"zip_code\": \"10029\", \"city\": \"New York City\", \"total_trips\": 173310, \"no_car_to_population_rate\": 0.3612}, {\"zip_code\": \"10001\", \"city\": \"New York City\", \"total_trips\": 2677805, \"no_car_to_population_rate\": 0.5416}, {\"zip_code\": \"95110\", \"city\": \"San Jose\", \"total_trips\": 16919, \"no_car_to_population_rate\": 0.0148}, {\"zip_code\": \"10038\", \"city\": \"New York City\", \"total_trips\": 908000, \"no_car_to_population_rate\": 0.4492}, {\"zip_code\": \"10017\", \"city\": \"New York City\", \"total_trips\": 904063, \"no_car_to_population_rate\": 0.5697}, {\"zip_code\": \"10036\", \"city\": \"New York City\", \"total_trips\": 1848903, \"no_car_to_population_rate\": 0.6012}, {\"zip_code\": \"10035\", \"city\": \"New York City\", \"total_trips\": 32832, \"no_car_to_population_rate\": 0.3169}, {\"zip_code\": \"10023\", \"city\": \"New York City\", \"total_trips\": 808670, \"no_car_to_population_rate\": 0.4263}, {\"zip_code\": \"95113\", \"city\": \"San Jose\", \"total_trips\": 19005, \"no_car_to_population_rate\": 0.0746}, {\"zip_code\": \"94111\", \"city\": \"San Francisco\", \"total_trips\": 185748, \"no_car_to_population_rate\": 0.1773}, {\"zip_code\": \"10026\", \"city\": \"New York City\", \"total_trips\": 34905, \"no_car_to_population_rate\": 0.4151}, {\"zip_code\": \"10024\", \"city\": \"New York City\", \"total_trips\": 508831, \"no_car_to_population_rate\": 0.4355}, {\"zip_code\": \"10013\", \"city\": \"New York City\", \"total_trips\": 1746421, \"no_car_to_population_rate\": 0.4344}, {\"zip_code\": \"11201\", \"city\": \"New York City\", \"total_trips\": 1978042, \"no_car_to_population_rate\": 0.4108}, {\"zip_code\": \"94041\", \"city\": \"Mountain View\", \"total_trips\": 16383, \"no_car_to_population_rate\": 0.0342}, {\"zip_code\": \"11233\", \"city\": \"New York City\", \"total_trips\": 18460, \"no_car_to_population_rate\": 0.2906}, {\"zip_code\": \"11205\", \"city\": \"New York City\", \"total_trips\": 524642, \"no_car_to_population_rate\": 0.3517}, {\"zip_code\": \"94301\", \"city\": \"Palo Alto\", \"total_trips\": 7445, \"no_car_to_population_rate\": 0.0188}, {\"zip_code\": \"10065\", \"city\": \"New York City\", \"total_trips\": 359544, \"no_car_to_population_rate\": 0.456}, {\"zip_code\": \"11222\", \"city\": \"New York City\", \"total_trips\": 545838, \"no_car_to_population_rate\": 0.405}, {\"zip_code\": \"10199\", \"city\": \"New York City\", \"total_trips\": 466116, \"no_car_to_population_rate\": 0.1855}, {\"zip_code\": \"11215\", \"city\": \"New York City\", \"total_trips\": 242758, \"no_car_to_population_rate\": 0.3407}]}}, {\"mode\": \"vega-lite\"});\n",
       "</script>"
      ],
      "text/plain": [
       "alt.Chart(...)"
      ]
     },
     "execution_count": 48,
     "metadata": {},
     "output_type": "execute_result"
    }
   ],
   "source": [
    "scatter = alt.Chart(dataframe, title ='Relationship between Pct of Population w/o Cars and number of Bike Trips by Zipcode').mark_circle(size=100).encode(\n",
    "    x=alt.X('no_car_to_population_rate', axis=alt.Axis(labels=True, title=\"Pct of Population w/o Cars\", format=\"%\", ticks=True)),\n",
    "    y=alt.Y('total_trips', axis=alt.Axis(labels=True, title=\"Total Trips\", ticks=True)),\n",
    "    size = 'total_trips',\n",
    "    tooltip=[alt.Tooltip('total_trips', title='# Trips'),\n",
    "            alt.Tooltip('no_car_to_population_rate', title='Pct of Population w/o Cars', format=\".2%\"), \n",
    "            alt.Tooltip('zip_code', title ='Zip Code')],\n",
    "    color=alt.Color('no_car_to_population_rate', title=\"Color Coding based on Pct\",\n",
    "                   scale=alt.Scale(range=['red', 'darkgreen']))).interactive().properties(width=600, height=400)\n",
    "\n",
    "scatter.configure_title(fontSize=14)"
   ]
  },
  {
   "cell_type": "markdown",
   "metadata": {},
   "source": [
    "## Data visualization 2\n",
    "\n",
    "Objective of visualization:\n",
    "- The purpose of this visualization is to get a better understanding of when the most\n",
    "amount of bike trips occur throughout the year (January to December) and throughout each Day (00:00 to 23:59)\n",
    "\n",
    "Insights trips by Month of the Year:\n",
    "- If we view the graph from a monthly perspective, we will get a solid understanding of\n",
    "when most bike trips occur throughout the year.\n",
    "- The graph is clearly displaying a cluster with a lot of bike activity from April to\n",
    "September. This trend makes sense as these months are generally warmer.\n",
    "\n",
    "Insights trips by Time Of The Day:\n",
    "- The visualization shows that there are two major clusters for when the most bike trip\n",
    "activity occurs throughout the day.\n",
    "- Looking at when most bike trips are initiated, it clearly tells us that the most bike\n",
    "rides are initiated from around 16:00 to 19:00 in the afternoon to evening, or from 07:00 to 09:00 in the morning.\n",
    "- This trend makes sense as these are normally the hours of the day when a majority of people have to go to work, or get out of work.\n"
   ]
  },
  {
   "cell_type": "markdown",
   "metadata": {},
   "source": [
    "## Import the data from BigQuery"
   ]
  },
  {
   "cell_type": "code",
   "execution_count": 54,
   "metadata": {},
   "outputs": [
    {
     "name": "stdout",
     "output_type": "stream",
     "text": [
      "          month  hour  total_trips\n",
      "0   10, October    22       111081\n",
      "1    08, August    14       344104\n",
      "2  12, December     7       121018\n",
      "3    08, August    10       271989\n",
      "4      06, June     7       214782\n"
     ]
    }
   ],
   "source": [
    "QUERY2 = \"\"\"\n",
    "    SELECT CONCAT(FORMAT_DATE(\"%m\", start_date), \", \", FORMAT_DATE(\"%B\", start_date)) AS month,  \n",
    "       EXTRACT(HOUR FROM start_date) AS hour,\n",
    "       COUNT(*) AS total_trips\n",
    "    FROM `takehometest-349914.takehometest.NYC_SF_data_stacked_enhanced_census`\n",
    "    GROUP BY CONCAT(FORMAT_DATE(\"%m\", start_date), \", \", FORMAT_DATE(\"%B\", start_date)),\n",
    "        EXTRACT(HOUR FROM start_date)\n",
    " \"\"\"\n",
    "\n",
    "dataframe2 = (bigquery_client.query(QUERY2).result().to_dataframe(create_bqstorage_client=True,))\n",
    "print(dataframe2.head())"
   ]
  },
  {
   "cell_type": "code",
   "execution_count": 24,
   "metadata": {},
   "outputs": [
    {
     "data": {
      "text/html": [
       "\n",
       "<div id=\"altair-viz-e9737d83dde84a04a3cbc3689799054f\"></div>\n",
       "<script type=\"text/javascript\">\n",
       "  var VEGA_DEBUG = (typeof VEGA_DEBUG == \"undefined\") ? {} : VEGA_DEBUG;\n",
       "  (function(spec, embedOpt){\n",
       "    let outputDiv = document.currentScript.previousElementSibling;\n",
       "    if (outputDiv.id !== \"altair-viz-e9737d83dde84a04a3cbc3689799054f\") {\n",
       "      outputDiv = document.getElementById(\"altair-viz-e9737d83dde84a04a3cbc3689799054f\");\n",
       "    }\n",
       "    const paths = {\n",
       "      \"vega\": \"https://cdn.jsdelivr.net/npm//vega@5?noext\",\n",
       "      \"vega-lib\": \"https://cdn.jsdelivr.net/npm//vega-lib?noext\",\n",
       "      \"vega-lite\": \"https://cdn.jsdelivr.net/npm//vega-lite@4.17.0?noext\",\n",
       "      \"vega-embed\": \"https://cdn.jsdelivr.net/npm//vega-embed@6?noext\",\n",
       "    };\n",
       "\n",
       "    function maybeLoadScript(lib, version) {\n",
       "      var key = `${lib.replace(\"-\", \"\")}_version`;\n",
       "      return (VEGA_DEBUG[key] == version) ?\n",
       "        Promise.resolve(paths[lib]) :\n",
       "        new Promise(function(resolve, reject) {\n",
       "          var s = document.createElement('script');\n",
       "          document.getElementsByTagName(\"head\")[0].appendChild(s);\n",
       "          s.async = true;\n",
       "          s.onload = () => {\n",
       "            VEGA_DEBUG[key] = version;\n",
       "            return resolve(paths[lib]);\n",
       "          };\n",
       "          s.onerror = () => reject(`Error loading script: ${paths[lib]}`);\n",
       "          s.src = paths[lib];\n",
       "        });\n",
       "    }\n",
       "\n",
       "    function showError(err) {\n",
       "      outputDiv.innerHTML = `<div class=\"error\" style=\"color:red;\">${err}</div>`;\n",
       "      throw err;\n",
       "    }\n",
       "\n",
       "    function displayChart(vegaEmbed) {\n",
       "      vegaEmbed(outputDiv, spec, embedOpt)\n",
       "        .catch(err => showError(`Javascript Error: ${err.message}<br>This usually means there's a typo in your chart specification. See the javascript console for the full traceback.`));\n",
       "    }\n",
       "\n",
       "    if(typeof define === \"function\" && define.amd) {\n",
       "      requirejs.config({paths});\n",
       "      require([\"vega-embed\"], displayChart, err => showError(`Error loading script: ${err.message}`));\n",
       "    } else {\n",
       "      maybeLoadScript(\"vega\", \"5\")\n",
       "        .then(() => maybeLoadScript(\"vega-lite\", \"4.17.0\"))\n",
       "        .then(() => maybeLoadScript(\"vega-embed\", \"6\"))\n",
       "        .catch(showError)\n",
       "        .then(() => displayChart(vegaEmbed));\n",
       "    }\n",
       "  })({\"config\": {\"view\": {\"continuousWidth\": 400, \"continuousHeight\": 300}, \"title\": {\"fontSize\": 14}}, \"data\": {\"name\": \"data-0d00affbcd8cd8c4443de24ec54f38c7\"}, \"mark\": {\"type\": \"rect\", \"size\": 100}, \"encoding\": {\"color\": {\"field\": \"total_trips\", \"title\": \"Total Trips\", \"type\": \"quantitative\"}, \"tooltip\": [{\"field\": \"total_trips\", \"title\": \"# Trips\", \"type\": \"quantitative\"}, {\"field\": \"month\", \"title\": \"Month\", \"type\": \"nominal\"}, {\"field\": \"hour\", \"title\": \"Hour\", \"type\": \"quantitative\"}], \"x\": {\"axis\": {\"labels\": true, \"ticks\": true, \"title\": \"Hour of the Day\"}, \"field\": \"hour\", \"type\": \"ordinal\"}, \"y\": {\"axis\": {\"labels\": true, \"ticks\": true, \"title\": \"\"}, \"field\": \"month\", \"sort\": {\"field\": \"month\", \"order\": \"descending\"}, \"type\": \"ordinal\"}}, \"height\": 450, \"selection\": {\"selector008\": {\"type\": \"interval\", \"bind\": \"scales\", \"encodings\": [\"x\", \"y\"]}}, \"title\": \"Relationship between Month and number of bike trips by hour of the day\", \"width\": 600, \"$schema\": \"https://vega.github.io/schema/vega-lite/v4.17.0.json\", \"datasets\": {\"data-0d00affbcd8cd8c4443de24ec54f38c7\": [{\"month\": \"10, October\", \"hour\": 22, \"total_trips\": 111081}, {\"month\": \"08, August\", \"hour\": 14, \"total_trips\": 344104}, {\"month\": \"12, December\", \"hour\": 7, \"total_trips\": 121018}, {\"month\": \"08, August\", \"hour\": 10, \"total_trips\": 271989}, {\"month\": \"06, June\", \"hour\": 7, \"total_trips\": 214782}, {\"month\": \"03, March\", \"hour\": 17, \"total_trips\": 265457}, {\"month\": \"09, September\", \"hour\": 8, \"total_trips\": 499733}, {\"month\": \"02, February\", \"hour\": 9, \"total_trips\": 126602}, {\"month\": \"04, April\", \"hour\": 1, \"total_trips\": 20253}, {\"month\": \"09, September\", \"hour\": 1, \"total_trips\": 35034}, {\"month\": \"02, February\", \"hour\": 20, \"total_trips\": 72802}, {\"month\": \"02, February\", \"hour\": 7, \"total_trips\": 90436}, {\"month\": \"03, March\", \"hour\": 23, \"total_trips\": 34704}, {\"month\": \"11, November\", \"hour\": 23, \"total_trips\": 51392}, {\"month\": \"06, June\", \"hour\": 3, \"total_trips\": 9663}, {\"month\": \"05, May\", \"hour\": 18, \"total_trips\": 591863}, {\"month\": \"07, July\", \"hour\": 13, \"total_trips\": 319992}, {\"month\": \"06, June\", \"hour\": 20, \"total_trips\": 243010}, {\"month\": \"07, July\", \"hour\": 7, \"total_trips\": 243324}, {\"month\": \"05, May\", \"hour\": 22, \"total_trips\": 141628}, {\"month\": \"07, July\", \"hour\": 1, \"total_trips\": 35240}, {\"month\": \"07, July\", \"hour\": 9, \"total_trips\": 347299}, {\"month\": \"12, December\", \"hour\": 0, \"total_trips\": 82502}, {\"month\": \"06, June\", \"hour\": 1, \"total_trips\": 26220}, {\"month\": \"10, October\", \"hour\": 18, \"total_trips\": 450304}, {\"month\": \"09, September\", \"hour\": 0, \"total_trips\": 151970}, {\"month\": \"09, September\", \"hour\": 11, \"total_trips\": 303668}, {\"month\": \"07, July\", \"hour\": 20, \"total_trips\": 300598}, {\"month\": \"10, October\", \"hour\": 13, \"total_trips\": 268102}, {\"month\": \"08, August\", \"hour\": 11, \"total_trips\": 290025}, {\"month\": \"08, August\", \"hour\": 15, \"total_trips\": 363417}, {\"month\": \"05, May\", \"hour\": 8, \"total_trips\": 485004}, {\"month\": \"06, June\", \"hour\": 18, \"total_trips\": 469629}, {\"month\": \"02, February\", \"hour\": 19, \"total_trips\": 109978}, {\"month\": \"11, November\", \"hour\": 18, \"total_trips\": 297236}, {\"month\": \"12, December\", \"hour\": 12, \"total_trips\": 136940}, {\"month\": \"04, April\", \"hour\": 5, \"total_trips\": 24667}, {\"month\": \"01, January\", \"hour\": 10, \"total_trips\": 77232}, {\"month\": \"12, December\", \"hour\": 4, \"total_trips\": 5406}, {\"month\": \"01, January\", \"hour\": 3, \"total_trips\": 3258}, {\"month\": \"11, November\", \"hour\": 4, \"total_trips\": 6338}, {\"month\": \"10, October\", \"hour\": 17, \"total_trips\": 492104}, {\"month\": \"07, July\", \"hour\": 12, \"total_trips\": 300766}, {\"month\": \"09, September\", \"hour\": 16, \"total_trips\": 471023}, {\"month\": \"03, March\", \"hour\": 7, \"total_trips\": 115715}, {\"month\": \"09, September\", \"hour\": 19, \"total_trips\": 440738}, {\"month\": \"08, August\", \"hour\": 17, \"total_trips\": 611821}, {\"month\": \"12, December\", \"hour\": 14, \"total_trips\": 149422}, {\"month\": \"12, December\", \"hour\": 5, \"total_trips\": 15774}, {\"month\": \"02, February\", \"hour\": 10, \"total_trips\": 80536}, {\"month\": \"09, September\", \"hour\": 12, \"total_trips\": 358977}, {\"month\": \"05, May\", \"hour\": 6, \"total_trips\": 127530}, {\"month\": \"06, June\", \"hour\": 4, \"total_trips\": 8565}, {\"month\": \"03, March\", \"hour\": 2, \"total_trips\": 5922}, {\"month\": \"06, June\", \"hour\": 17, \"total_trips\": 488044}, {\"month\": \"09, September\", \"hour\": 21, \"total_trips\": 207200}, {\"month\": \"05, May\", \"hour\": 17, \"total_trips\": 609136}, {\"month\": \"11, November\", \"hour\": 14, \"total_trips\": 205072}, {\"month\": \"02, February\", \"hour\": 17, \"total_trips\": 175009}, {\"month\": \"07, July\", \"hour\": 15, \"total_trips\": 339787}, {\"month\": \"03, March\", \"hour\": 16, \"total_trips\": 186379}, {\"month\": \"12, December\", \"hour\": 22, \"total_trips\": 54937}, {\"month\": \"09, September\", \"hour\": 5, \"total_trips\": 34918}, {\"month\": \"08, August\", \"hour\": 4, \"total_trips\": 12010}, {\"month\": \"08, August\", \"hour\": 1, \"total_trips\": 37262}, {\"month\": \"02, February\", \"hour\": 12, \"total_trips\": 92490}, {\"month\": \"11, November\", \"hour\": 13, \"total_trips\": 201223}, {\"month\": \"05, May\", \"hour\": 15, \"total_trips\": 368538}, {\"month\": \"05, May\", \"hour\": 11, \"total_trips\": 276502}, {\"month\": \"02, February\", \"hour\": 11, \"total_trips\": 80226}, {\"month\": \"09, September\", \"hour\": 22, \"total_trips\": 155681}, {\"month\": \"03, March\", \"hour\": 9, \"total_trips\": 177601}, {\"month\": \"12, December\", \"hour\": 11, \"total_trips\": 118343}, {\"month\": \"04, April\", \"hour\": 22, \"total_trips\": 99903}, {\"month\": \"07, July\", \"hour\": 18, \"total_trips\": 556001}, {\"month\": \"12, December\", \"hour\": 1, \"total_trips\": 14320}, {\"month\": \"11, November\", \"hour\": 21, \"total_trips\": 100712}, {\"month\": \"03, March\", \"hour\": 5, \"total_trips\": 15318}, {\"month\": \"11, November\", \"hour\": 1, \"total_trips\": 18769}, {\"month\": \"05, May\", \"hour\": 4, \"total_trips\": 10114}, {\"month\": \"04, April\", \"hour\": 9, \"total_trips\": 298368}, {\"month\": \"07, July\", \"hour\": 11, \"total_trips\": 257312}, {\"month\": \"04, April\", \"hour\": 18, \"total_trips\": 466363}, {\"month\": \"09, September\", \"hour\": 18, \"total_trips\": 640900}, {\"month\": \"04, April\", \"hour\": 15, \"total_trips\": 300284}, {\"month\": \"01, January\", \"hour\": 11, \"total_trips\": 77958}, {\"month\": \"09, September\", \"hour\": 6, \"total_trips\": 135407}, {\"month\": \"02, February\", \"hour\": 22, \"total_trips\": 38200}, {\"month\": \"06, June\", \"hour\": 13, \"total_trips\": 260776}, {\"month\": \"07, July\", \"hour\": 17, \"total_trips\": 553912}, {\"month\": \"03, March\", \"hour\": 0, \"total_trips\": 101791}, {\"month\": \"03, March\", \"hour\": 22, \"total_trips\": 51888}, {\"month\": \"11, November\", \"hour\": 5, \"total_trips\": 20061}, {\"month\": \"04, April\", \"hour\": 4, \"total_trips\": 7096}, {\"month\": \"08, August\", \"hour\": 21, \"total_trips\": 216412}, {\"month\": \"09, September\", \"hour\": 23, \"total_trips\": 107103}, {\"month\": \"01, January\", \"hour\": 12, \"total_trips\": 90347}, {\"month\": \"03, March\", \"hour\": 20, \"total_trips\": 103927}, {\"month\": \"06, June\", \"hour\": 6, \"total_trips\": 105177}, {\"month\": \"12, December\", \"hour\": 19, \"total_trips\": 140847}, {\"month\": \"03, March\", \"hour\": 19, \"total_trips\": 164660}, {\"month\": \"08, August\", \"hour\": 23, \"total_trips\": 110975}, {\"month\": \"08, August\", \"hour\": 0, \"total_trips\": 160803}, {\"month\": \"04, April\", \"hour\": 0, \"total_trips\": 121795}, {\"month\": \"02, February\", \"hour\": 18, \"total_trips\": 162568}, {\"month\": \"08, August\", \"hour\": 22, \"total_trips\": 164210}, {\"month\": \"01, January\", \"hour\": 15, \"total_trips\": 108123}, {\"month\": \"03, March\", \"hour\": 12, \"total_trips\": 138346}, {\"month\": \"09, September\", \"hour\": 2, \"total_trips\": 20991}, {\"month\": \"04, April\", \"hour\": 17, \"total_trips\": 484811}, {\"month\": \"09, September\", \"hour\": 20, \"total_trips\": 288163}, {\"month\": \"03, March\", \"hour\": 18, \"total_trips\": 250471}, {\"month\": \"03, March\", \"hour\": 14, \"total_trips\": 151828}, {\"month\": \"03, March\", \"hour\": 15, \"total_trips\": 160431}, {\"month\": \"09, September\", \"hour\": 15, \"total_trips\": 394412}, {\"month\": \"09, September\", \"hour\": 13, \"total_trips\": 373577}, {\"month\": \"06, June\", \"hour\": 12, \"total_trips\": 247418}, {\"month\": \"05, May\", \"hour\": 20, \"total_trips\": 276779}, {\"month\": \"08, August\", \"hour\": 13, \"total_trips\": 340877}, {\"month\": \"09, September\", \"hour\": 9, \"total_trips\": 394245}, {\"month\": \"01, January\", \"hour\": 7, \"total_trips\": 86980}, {\"month\": \"01, January\", \"hour\": 9, \"total_trips\": 122238}, {\"month\": \"10, October\", \"hour\": 15, \"total_trips\": 298079}, {\"month\": \"11, November\", \"hour\": 11, \"total_trips\": 165752}, {\"month\": \"01, January\", \"hour\": 22, \"total_trips\": 37827}, {\"month\": \"06, June\", \"hour\": 11, \"total_trips\": 218116}, {\"month\": \"04, April\", \"hour\": 14, \"total_trips\": 288897}, {\"month\": \"06, June\", \"hour\": 23, \"total_trips\": 86395}, {\"month\": \"02, February\", \"hour\": 16, \"total_trips\": 121954}, {\"month\": \"03, March\", \"hour\": 6, \"total_trips\": 55663}, {\"month\": \"07, July\", \"hour\": 23, \"total_trips\": 107824}, {\"month\": \"05, May\", \"hour\": 1, \"total_trips\": 29882}, {\"month\": \"09, September\", \"hour\": 17, \"total_trips\": 654930}, {\"month\": \"04, April\", \"hour\": 16, \"total_trips\": 350479}, {\"month\": \"10, October\", \"hour\": 20, \"total_trips\": 201783}, {\"month\": \"01, January\", \"hour\": 6, \"total_trips\": 43506}, {\"month\": \"04, April\", \"hour\": 13, \"total_trips\": 276866}, {\"month\": \"01, January\", \"hour\": 17, \"total_trips\": 173853}, {\"month\": \"04, April\", \"hour\": 10, \"total_trips\": 209493}, {\"month\": \"06, June\", \"hour\": 19, \"total_trips\": 340443}, {\"month\": \"02, February\", \"hour\": 13, \"total_trips\": 95567}, {\"month\": \"10, October\", \"hour\": 1, \"total_trips\": 26158}, {\"month\": \"09, September\", \"hour\": 10, \"total_trips\": 285334}, {\"month\": \"01, January\", \"hour\": 8, \"total_trips\": 156391}, {\"month\": \"01, January\", \"hour\": 13, \"total_trips\": 96669}, {\"month\": \"10, October\", \"hour\": 14, \"total_trips\": 279565}, {\"month\": \"07, July\", \"hour\": 8, \"total_trips\": 420620}, {\"month\": \"02, February\", \"hour\": 21, \"total_trips\": 51087}, {\"month\": \"07, July\", \"hour\": 5, \"total_trips\": 32208}, {\"month\": \"01, January\", \"hour\": 4, \"total_trips\": 3608}, {\"month\": \"02, February\", \"hour\": 2, \"total_trips\": 4513}, {\"month\": \"02, February\", \"hour\": 5, \"total_trips\": 12676}, {\"month\": \"05, May\", \"hour\": 12, \"total_trips\": 321930}, {\"month\": \"04, April\", \"hour\": 19, \"total_trips\": 313625}, {\"month\": \"10, October\", \"hour\": 11, \"total_trips\": 216519}, {\"month\": \"12, December\", \"hour\": 10, \"total_trips\": 117637}, {\"month\": \"08, August\", \"hour\": 12, \"total_trips\": 332493}, {\"month\": \"08, August\", \"hour\": 19, \"total_trips\": 458597}, {\"month\": \"08, August\", \"hour\": 18, \"total_trips\": 613161}, {\"month\": \"08, August\", \"hour\": 16, \"total_trips\": 431785}, {\"month\": \"09, September\", \"hour\": 14, \"total_trips\": 380874}, {\"month\": \"11, November\", \"hour\": 7, \"total_trips\": 167129}, {\"month\": \"11, November\", \"hour\": 20, \"total_trips\": 139112}, {\"month\": \"10, October\", \"hour\": 19, \"total_trips\": 299801}, {\"month\": \"12, December\", \"hour\": 18, \"total_trips\": 206933}, {\"month\": \"06, June\", \"hour\": 21, \"total_trips\": 166259}, {\"month\": \"10, October\", \"hour\": 2, \"total_trips\": 15370}, {\"month\": \"04, April\", \"hour\": 21, \"total_trips\": 135895}, {\"month\": \"10, October\", \"hour\": 6, \"total_trips\": 101131}, {\"month\": \"06, June\", \"hour\": 2, \"total_trips\": 15360}, {\"month\": \"10, October\", \"hour\": 4, \"total_trips\": 8522}, {\"month\": \"03, March\", \"hour\": 1, \"total_trips\": 11031}, {\"month\": \"03, March\", \"hour\": 3, \"total_trips\": 4214}, {\"month\": \"03, March\", \"hour\": 21, \"total_trips\": 72133}, {\"month\": \"07, July\", \"hour\": 19, \"total_trips\": 421950}, {\"month\": \"11, November\", \"hour\": 8, \"total_trips\": 295245}, {\"month\": \"06, June\", \"hour\": 8, \"total_trips\": 373809}, {\"month\": \"05, May\", \"hour\": 7, \"total_trips\": 273058}, {\"month\": \"07, July\", \"hour\": 16, \"total_trips\": 396932}, {\"month\": \"11, November\", \"hour\": 15, \"total_trips\": 215860}, {\"month\": \"05, May\", \"hour\": 21, \"total_trips\": 189580}, {\"month\": \"06, June\", \"hour\": 5, \"total_trips\": 27404}, {\"month\": \"08, August\", \"hour\": 7, \"total_trips\": 262465}, {\"month\": \"12, December\", \"hour\": 23, \"total_trips\": 38480}, {\"month\": \"08, August\", \"hour\": 2, \"total_trips\": 21574}, {\"month\": \"09, September\", \"hour\": 3, \"total_trips\": 12832}, {\"month\": \"02, February\", \"hour\": 4, \"total_trips\": 3202}, {\"month\": \"07, July\", \"hour\": 3, \"total_trips\": 13442}, {\"month\": \"06, June\", \"hour\": 9, \"total_trips\": 299782}, {\"month\": \"12, December\", \"hour\": 8, \"total_trips\": 217585}, {\"month\": \"10, October\", \"hour\": 0, \"total_trips\": 140346}, {\"month\": \"07, July\", \"hour\": 0, \"total_trips\": 152983}, {\"month\": \"05, May\", \"hour\": 0, \"total_trips\": 140289}, {\"month\": \"03, March\", \"hour\": 10, \"total_trips\": 114076}, {\"month\": \"01, January\", \"hour\": 14, \"total_trips\": 102903}, {\"month\": \"06, June\", \"hour\": 15, \"total_trips\": 286428}, {\"month\": \"02, February\", \"hour\": 23, \"total_trips\": 24244}, {\"month\": \"10, October\", \"hour\": 12, \"total_trips\": 256041}, {\"month\": \"06, June\", \"hour\": 0, \"total_trips\": 141468}, {\"month\": \"07, July\", \"hour\": 21, \"total_trips\": 208612}, {\"month\": \"12, December\", \"hour\": 6, \"total_trips\": 57129}, {\"month\": \"01, January\", \"hour\": 23, \"total_trips\": 23846}, {\"month\": \"05, May\", \"hour\": 2, \"total_trips\": 17384}, {\"month\": \"04, April\", \"hour\": 2, \"total_trips\": 11943}, {\"month\": \"01, January\", \"hour\": 2, \"total_trips\": 4998}, {\"month\": \"07, July\", \"hour\": 4, \"total_trips\": 11506}, {\"month\": \"04, April\", \"hour\": 20, \"total_trips\": 196904}, {\"month\": \"07, July\", \"hour\": 14, \"total_trips\": 322016}, {\"month\": \"05, May\", \"hour\": 10, \"total_trips\": 262315}, {\"month\": \"04, April\", \"hour\": 8, \"total_trips\": 359918}, {\"month\": \"03, March\", \"hour\": 13, \"total_trips\": 145573}, {\"month\": \"10, October\", \"hour\": 7, \"total_trips\": 219767}, {\"month\": \"09, September\", \"hour\": 7, \"total_trips\": 294045}, {\"month\": \"08, August\", \"hour\": 6, \"total_trips\": 132694}, {\"month\": \"11, November\", \"hour\": 17, \"total_trips\": 316333}, {\"month\": \"04, April\", \"hour\": 12, \"total_trips\": 261060}, {\"month\": \"05, May\", \"hour\": 23, \"total_trips\": 95302}, {\"month\": \"11, November\", \"hour\": 16, \"total_trips\": 242145}, {\"month\": \"11, November\", \"hour\": 6, \"total_trips\": 77531}, {\"month\": \"08, August\", \"hour\": 5, \"total_trips\": 33890}, {\"month\": \"09, September\", \"hour\": 4, \"total_trips\": 11883}, {\"month\": \"02, February\", \"hour\": 15, \"total_trips\": 102158}, {\"month\": \"02, February\", \"hour\": 1, \"total_trips\": 7629}, {\"month\": \"04, April\", \"hour\": 7, \"total_trips\": 196960}, {\"month\": \"08, August\", \"hour\": 9, \"total_trips\": 384391}, {\"month\": \"10, October\", \"hour\": 21, \"total_trips\": 147309}, {\"month\": \"04, April\", \"hour\": 23, \"total_trips\": 65905}, {\"month\": \"03, March\", \"hour\": 8, \"total_trips\": 219983}, {\"month\": \"06, June\", \"hour\": 14, \"total_trips\": 272348}, {\"month\": \"08, August\", \"hour\": 20, \"total_trips\": 308571}, {\"month\": \"04, April\", \"hour\": 6, \"total_trips\": 93963}, {\"month\": \"06, June\", \"hour\": 22, \"total_trips\": 124923}, {\"month\": \"10, October\", \"hour\": 10, \"total_trips\": 211047}, {\"month\": \"05, May\", \"hour\": 13, \"total_trips\": 340460}, {\"month\": \"12, December\", \"hour\": 13, \"total_trips\": 143686}, {\"month\": \"05, May\", \"hour\": 9, \"total_trips\": 378182}, {\"month\": \"11, November\", \"hour\": 0, \"total_trips\": 104813}, {\"month\": \"05, May\", \"hour\": 5, \"total_trips\": 34254}, {\"month\": \"10, October\", \"hour\": 3, \"total_trips\": 9098}, {\"month\": \"03, March\", \"hour\": 4, \"total_trips\": 4561}, {\"month\": \"12, December\", \"hour\": 17, \"total_trips\": 222222}, {\"month\": \"02, February\", \"hour\": 8, \"total_trips\": 162931}, {\"month\": \"01, January\", \"hour\": 16, \"total_trips\": 126874}, {\"month\": \"12, December\", \"hour\": 16, \"total_trips\": 176243}, {\"month\": \"05, May\", \"hour\": 16, \"total_trips\": 435317}, {\"month\": \"08, August\", \"hour\": 8, \"total_trips\": 466304}, {\"month\": \"06, June\", \"hour\": 16, \"total_trips\": 340911}, {\"month\": \"11, November\", \"hour\": 22, \"total_trips\": 76643}, {\"month\": \"07, July\", \"hour\": 22, \"total_trips\": 161257}, {\"month\": \"12, December\", \"hour\": 21, \"total_trips\": 70061}, {\"month\": \"10, October\", \"hour\": 16, \"total_trips\": 354031}, {\"month\": \"01, January\", \"hour\": 18, \"total_trips\": 165216}, {\"month\": \"04, April\", \"hour\": 11, \"total_trips\": 222543}, {\"month\": \"02, February\", \"hour\": 14, \"total_trips\": 98377}, {\"month\": \"11, November\", \"hour\": 10, \"total_trips\": 160777}, {\"month\": \"11, November\", \"hour\": 2, \"total_trips\": 10663}, {\"month\": \"12, December\", \"hour\": 2, \"total_trips\": 8522}, {\"month\": \"01, January\", \"hour\": 20, \"total_trips\": 72752}, {\"month\": \"02, February\", \"hour\": 3, \"total_trips\": 2946}, {\"month\": \"10, October\", \"hour\": 5, \"total_trips\": 25701}, {\"month\": \"11, November\", \"hour\": 12, \"total_trips\": 193274}, {\"month\": \"05, May\", \"hour\": 14, \"total_trips\": 350558}, {\"month\": \"11, November\", \"hour\": 9, \"total_trips\": 235572}, {\"month\": \"10, October\", \"hour\": 8, \"total_trips\": 397480}, {\"month\": \"12, December\", \"hour\": 15, \"total_trips\": 156309}, {\"month\": \"10, October\", \"hour\": 23, \"total_trips\": 74882}, {\"month\": \"07, July\", \"hour\": 10, \"total_trips\": 240742}, {\"month\": \"01, January\", \"hour\": 19, \"total_trips\": 110964}, {\"month\": \"01, January\", \"hour\": 1, \"total_trips\": 8267}, {\"month\": \"01, January\", \"hour\": 21, \"total_trips\": 49945}, {\"month\": \"11, November\", \"hour\": 3, \"total_trips\": 6593}, {\"month\": \"07, July\", \"hour\": 2, \"total_trips\": 21286}, {\"month\": \"04, April\", \"hour\": 3, \"total_trips\": 6960}, {\"month\": \"08, August\", \"hour\": 3, \"total_trips\": 13231}, {\"month\": \"12, December\", \"hour\": 3, \"total_trips\": 5269}, {\"month\": \"12, December\", \"hour\": 20, \"total_trips\": 95062}, {\"month\": \"05, May\", \"hour\": 19, \"total_trips\": 417325}, {\"month\": \"11, November\", \"hour\": 19, \"total_trips\": 203713}, {\"month\": \"03, March\", \"hour\": 11, \"total_trips\": 117915}, {\"month\": \"10, October\", \"hour\": 9, \"total_trips\": 313129}, {\"month\": \"12, December\", \"hour\": 9, \"total_trips\": 175719}, {\"month\": \"06, June\", \"hour\": 10, \"total_trips\": 206870}, {\"month\": \"02, February\", \"hour\": 6, \"total_trips\": 43979}, {\"month\": \"07, July\", \"hour\": 6, \"total_trips\": 122373}, {\"month\": \"01, January\", \"hour\": 0, \"total_trips\": 86209}, {\"month\": \"02, February\", \"hour\": 0, \"total_trips\": 84039}, {\"month\": \"05, May\", \"hour\": 3, \"total_trips\": 10415}, {\"month\": \"01, January\", \"hour\": 5, \"total_trips\": 12721}]}}, {\"mode\": \"vega-lite\"});\n",
       "</script>"
      ],
      "text/plain": [
       "alt.Chart(...)"
      ]
     },
     "execution_count": 24,
     "metadata": {},
     "output_type": "execute_result"
    }
   ],
   "source": [
    "heatmap = alt.Chart(dataframe2, title = 'Relationship between Month and number of bike trips by hour of the day').mark_rect(size=100).encode(\n",
    "    x = alt.X('hour:O', #ordinal\n",
    "             axis=alt.Axis(labels=True, title=\"Hour of the Day\", ticks=True)),\n",
    "    y = alt.Y('month:O', #ordinal\n",
    "              axis=alt.Axis(labels=True, title=\"\", ticks=True),\n",
    "              sort=alt.SortField(\n",
    "              field='month',\n",
    "              order=\"descending\")),\n",
    "    color = alt.Color('total_trips', title='Total Trips'),\n",
    "    tooltip=[alt.Tooltip('total_trips', title='# Trips'),\n",
    "            alt.Tooltip('month', title='Month'),\n",
    "            alt.Tooltip('hour', title='Hour')]).interactive().properties(width=600, height=450)\n",
    "heatmap.configure_title(fontSize=14)"
   ]
  },
  {
   "cell_type": "markdown",
   "metadata": {},
   "source": [
    "## Data visualization 3\n",
    "\n",
    "Objective of visualization:\n",
    "- The purpose of this visualization is to compare the frequency of bike rides throughout the\n",
    "week, and to see how bike trip behavior might differ between New York City and San Francisco.\n",
    "\n",
    "Insights:\n",
    "- The chart tells us that both cities are experiencing a drop-off in activity during the\n",
    "weekend. Furthermore, one observation that is interesting for both cities, is that the average duration of trips see an increase over the weekend. This is likely due to the fact that people on the weekends may be more likely to use bikes for leisure, while users during the week might use the bike to get around the city quickly for work or get from point A to B.\n",
    "\n",
    "\n",
    "\n"
   ]
  },
  {
   "cell_type": "code",
   "execution_count": 51,
   "metadata": {},
   "outputs": [
    {
     "name": "stdout",
     "output_type": "stream",
     "text": [
      "  weekday_name_full           city  avg_trip_duration_mins  total_trips\n",
      "0         1, Monday  San Francisco                    12.9       155698\n",
      "1       4, Thursday  San Francisco                    12.8       159737\n",
      "2         7, Sunday  San Francisco                    31.0        51394\n",
      "3         1, Monday  New York City                    14.9      7407881\n",
      "4         5, Friday  San Francisco                    15.4       139476\n"
     ]
    }
   ],
   "source": [
    "QUERY3 = \"\"\"\n",
    "    SELECT CONCAT(FORMAT_DATE('%u', start_date), ', ', FORMAT_DATE('%A', start_date))  AS weekday_name_full, \n",
    "        start_station_landmark AS city, \n",
    "        ROUND((SUM(trip_duration)-MAX(trip_duration))/(COUNT(trip_duration)-1)/60,1) AS avg_trip_duration_mins,\n",
    "        COUNT(*) AS total_trips\n",
    "    FROM `takehometest-349914.takehometest.NYC_SF_data_stacked_enhanced_census`\n",
    "    WHERE start_station_landmark in(\"San Francisco\", \"New York City\")\n",
    "    GROUP BY CONCAT(FORMAT_DATE('%u', start_date), ', ', FORMAT_DATE('%A', start_date)), start_station_landmark\n",
    " \"\"\"\n",
    "\n",
    "dataframe3 = (bigquery_client.query(QUERY3).result().to_dataframe(create_bqstorage_client=True,))\n",
    "print(dataframe3.head())"
   ]
  },
  {
   "cell_type": "code",
   "execution_count": 52,
   "metadata": {},
   "outputs": [
    {
     "data": {
      "text/html": [
       "\n",
       "<div id=\"altair-viz-67bdaa88effb49849904da917a2cfc90\"></div>\n",
       "<script type=\"text/javascript\">\n",
       "  var VEGA_DEBUG = (typeof VEGA_DEBUG == \"undefined\") ? {} : VEGA_DEBUG;\n",
       "  (function(spec, embedOpt){\n",
       "    let outputDiv = document.currentScript.previousElementSibling;\n",
       "    if (outputDiv.id !== \"altair-viz-67bdaa88effb49849904da917a2cfc90\") {\n",
       "      outputDiv = document.getElementById(\"altair-viz-67bdaa88effb49849904da917a2cfc90\");\n",
       "    }\n",
       "    const paths = {\n",
       "      \"vega\": \"https://cdn.jsdelivr.net/npm//vega@5?noext\",\n",
       "      \"vega-lib\": \"https://cdn.jsdelivr.net/npm//vega-lib?noext\",\n",
       "      \"vega-lite\": \"https://cdn.jsdelivr.net/npm//vega-lite@4.17.0?noext\",\n",
       "      \"vega-embed\": \"https://cdn.jsdelivr.net/npm//vega-embed@6?noext\",\n",
       "    };\n",
       "\n",
       "    function maybeLoadScript(lib, version) {\n",
       "      var key = `${lib.replace(\"-\", \"\")}_version`;\n",
       "      return (VEGA_DEBUG[key] == version) ?\n",
       "        Promise.resolve(paths[lib]) :\n",
       "        new Promise(function(resolve, reject) {\n",
       "          var s = document.createElement('script');\n",
       "          document.getElementsByTagName(\"head\")[0].appendChild(s);\n",
       "          s.async = true;\n",
       "          s.onload = () => {\n",
       "            VEGA_DEBUG[key] = version;\n",
       "            return resolve(paths[lib]);\n",
       "          };\n",
       "          s.onerror = () => reject(`Error loading script: ${paths[lib]}`);\n",
       "          s.src = paths[lib];\n",
       "        });\n",
       "    }\n",
       "\n",
       "    function showError(err) {\n",
       "      outputDiv.innerHTML = `<div class=\"error\" style=\"color:red;\">${err}</div>`;\n",
       "      throw err;\n",
       "    }\n",
       "\n",
       "    function displayChart(vegaEmbed) {\n",
       "      vegaEmbed(outputDiv, spec, embedOpt)\n",
       "        .catch(err => showError(`Javascript Error: ${err.message}<br>This usually means there's a typo in your chart specification. See the javascript console for the full traceback.`));\n",
       "    }\n",
       "\n",
       "    if(typeof define === \"function\" && define.amd) {\n",
       "      requirejs.config({paths});\n",
       "      require([\"vega-embed\"], displayChart, err => showError(`Error loading script: ${err.message}`));\n",
       "    } else {\n",
       "      maybeLoadScript(\"vega\", \"5\")\n",
       "        .then(() => maybeLoadScript(\"vega-lite\", \"4.17.0\"))\n",
       "        .then(() => maybeLoadScript(\"vega-embed\", \"6\"))\n",
       "        .catch(showError)\n",
       "        .then(() => displayChart(vegaEmbed));\n",
       "    }\n",
       "  })({\"config\": {\"view\": {\"continuousWidth\": 400, \"continuousHeight\": 300}}, \"vconcat\": [{\"layer\": [{\"mark\": {\"type\": \"bar\", \"color\": \"#57A44C\", \"opacity\": 0.4, \"size\": 20}, \"encoding\": {\"tooltip\": [{\"field\": \"total_trips\", \"title\": \"Total Number of Trips\", \"type\": \"quantitative\"}], \"x\": {\"axis\": {\"title\": null}, \"field\": \"weekday_name_full\", \"type\": \"nominal\"}, \"y\": {\"axis\": {\"title\": \"Total Number of Trips\"}, \"field\": \"total_trips\", \"type\": \"quantitative\"}}, \"title\": \"NYC Bike Trips Insights\"}, {\"mark\": {\"type\": \"line\", \"interpolate\": \"monotone\", \"point\": {\"color\": \"red\"}, \"stroke\": \"#5276A7\"}, \"encoding\": {\"tooltip\": [{\"field\": \"avg_trip_duration_mins\", \"title\": \"Avg. Duration (mins)\", \"type\": \"quantitative\"}], \"x\": {\"axis\": {\"title\": null}, \"field\": \"weekday_name_full\", \"type\": \"nominal\"}, \"y\": {\"axis\": {\"title\": \"Avg. Duration (mins)\"}, \"field\": \"avg_trip_duration_mins\", \"type\": \"quantitative\"}}, \"title\": \"NYC Bike Trips Insights\"}], \"data\": {\"name\": \"data-55d292900a5679a3ee938f3d871c9d30\"}, \"height\": 200, \"resolve\": {\"scale\": {\"y\": \"independent\"}}, \"width\": 350}, {\"layer\": [{\"mark\": {\"type\": \"bar\", \"color\": \"#57A44C\", \"opacity\": 0.4, \"size\": 20}, \"encoding\": {\"tooltip\": [{\"field\": \"total_trips\", \"title\": \"Total Number of Trips\", \"type\": \"quantitative\"}], \"x\": {\"axis\": {\"title\": null}, \"field\": \"weekday_name_full\", \"type\": \"nominal\"}, \"y\": {\"axis\": {\"title\": \"Total Number of Trips\"}, \"field\": \"total_trips\", \"type\": \"quantitative\"}}, \"title\": \"SF Bike Trips Insights\", \"transform\": [{\"fold\": [\"total_trips\"], \"as\": [\"variable\", \"value\"]}]}, {\"mark\": {\"type\": \"line\", \"interpolate\": \"monotone\", \"point\": {\"color\": \"red\"}, \"stroke\": \"#5276A7\"}, \"encoding\": {\"tooltip\": [{\"field\": \"avg_trip_duration_mins\", \"title\": \"Avg. Duration (mins)\", \"type\": \"quantitative\"}], \"x\": {\"axis\": {\"title\": null}, \"field\": \"weekday_name_full\", \"type\": \"nominal\"}, \"y\": {\"axis\": {\"title\": \"Avg. Duration (mins)\"}, \"field\": \"avg_trip_duration_mins\", \"type\": \"quantitative\"}}, \"title\": \"SF Bike Trips Insights\"}], \"data\": {\"name\": \"data-e7e6987f7c77f231fb6b4280534dd41b\"}, \"height\": 200, \"resolve\": {\"scale\": {\"y\": \"independent\"}}, \"width\": 350}], \"$schema\": \"https://vega.github.io/schema/vega-lite/v4.17.0.json\", \"datasets\": {\"data-55d292900a5679a3ee938f3d871c9d30\": [{\"weekday_name_full\": \"1, Monday\", \"city\": \"New York City\", \"avg_trip_duration_mins\": 14.9, \"total_trips\": 7407881}, {\"weekday_name_full\": \"4, Thursday\", \"city\": \"New York City\", \"avg_trip_duration_mins\": 14.7, \"total_trips\": 8007790}, {\"weekday_name_full\": \"2, Tuesday\", \"city\": \"New York City\", \"avg_trip_duration_mins\": 14.5, \"total_trips\": 7917309}, {\"weekday_name_full\": \"3, Wednesday\", \"city\": \"New York City\", \"avg_trip_duration_mins\": 14.8, \"total_trips\": 8127467}, {\"weekday_name_full\": \"5, Friday\", \"city\": \"New York City\", \"avg_trip_duration_mins\": 15.3, \"total_trips\": 7623992}, {\"weekday_name_full\": \"7, Sunday\", \"city\": \"New York City\", \"avg_trip_duration_mins\": 18.2, \"total_trips\": 5917501}, {\"weekday_name_full\": \"6, Saturday\", \"city\": \"New York City\", \"avg_trip_duration_mins\": 18.5, \"total_trips\": 6227284}], \"data-e7e6987f7c77f231fb6b4280534dd41b\": [{\"weekday_name_full\": \"1, Monday\", \"city\": \"San Francisco\", \"avg_trip_duration_mins\": 12.9, \"total_trips\": 155698}, {\"weekday_name_full\": \"4, Thursday\", \"city\": \"San Francisco\", \"avg_trip_duration_mins\": 12.8, \"total_trips\": 159737}, {\"weekday_name_full\": \"7, Sunday\", \"city\": \"San Francisco\", \"avg_trip_duration_mins\": 31.0, \"total_trips\": 51394}, {\"weekday_name_full\": \"5, Friday\", \"city\": \"San Francisco\", \"avg_trip_duration_mins\": 15.4, \"total_trips\": 139476}, {\"weekday_name_full\": \"6, Saturday\", \"city\": \"San Francisco\", \"avg_trip_duration_mins\": 35.7, \"total_trips\": 53315}, {\"weekday_name_full\": \"3, Wednesday\", \"city\": \"San Francisco\", \"avg_trip_duration_mins\": 12.5, \"total_trips\": 164010}, {\"weekday_name_full\": \"2, Tuesday\", \"city\": \"San Francisco\", \"avg_trip_duration_mins\": 12.5, \"total_trips\": 167593}]}}, {\"mode\": \"vega-lite\"});\n",
       "</script>"
      ],
      "text/plain": [
       "alt.VConcatChart(...)"
      ]
     },
     "execution_count": 52,
     "metadata": {},
     "output_type": "execute_result"
    }
   ],
   "source": [
    "nyc = dataframe3[dataframe3['city']=='New York City'] #create one df for NYC\n",
    "sf = dataframe3[dataframe3['city']=='San Francisco'] #create one df for SF\n",
    "\n",
    "base_sf = alt.Chart(sf, title='SF Bike Trips Insights').encode(\n",
    "    alt.X('weekday_name_full', axis=alt.Axis(title=None))\n",
    ")\n",
    "\n",
    "bar_sf = base_sf.mark_bar(opacity=0.4, color='#57A44C', size=20).transform_fold(\n",
    "    fold=['total_trips'], \n",
    "    as_=['variable', 'value']\n",
    ").encode(\n",
    "    alt.Y('total_trips', axis=alt.Axis(title='Total Number of Trips')), tooltip=[alt.Tooltip('total_trips', title='Total Number of Trips')]\n",
    ")\n",
    "\n",
    "line_sf = base_sf.mark_line(stroke='#5276A7', interpolate='monotone', point=alt.OverlayMarkDef(color=\"red\")).encode(\n",
    "    alt.Y('avg_trip_duration_mins',axis=alt.Axis(title='Avg. Duration (mins)')),   tooltip=[alt.Tooltip('avg_trip_duration_mins', title='Avg. Duration (mins)')]\n",
    ")\n",
    "\n",
    "chart_sf = alt.layer(bar_sf, line_sf).resolve_scale(y='independent').properties(width=350, height=200)\n",
    "\n",
    "base_nyc = alt.Chart(nyc, title='NYC Bike Trips Insights').encode(\n",
    "    alt.X('weekday_name_full', axis=alt.Axis(title=None))\n",
    ")\n",
    "\n",
    "bar_nyc = base_nyc.mark_bar(opacity=0.4, color='#57A44C', size=20).encode(\n",
    "    alt.Y('total_trips', axis=alt.Axis(title='Total Number of Trips')), tooltip=[alt.Tooltip('total_trips', title='Total Number of Trips')]\n",
    ")\n",
    "\n",
    "line_nyc = base_nyc.mark_line(stroke='#5276A7', interpolate='monotone', point=alt.OverlayMarkDef(color=\"red\")).encode(\n",
    "    alt.Y('avg_trip_duration_mins',axis=alt.Axis(title='Avg. Duration (mins)')),   tooltip=[alt.Tooltip('avg_trip_duration_mins', title='Avg. Duration (mins)')]\n",
    ")\n",
    "\n",
    "chart_nyc = alt.layer(bar_nyc, line_nyc).resolve_scale(y='independent').properties(width=350, height=200)\n",
    "\n",
    "alt.vconcat(chart_nyc, chart_sf)"
   ]
  }
 ],
 "metadata": {
  "kernelspec": {
   "display_name": "Python 3",
   "language": "python",
   "name": "python3"
  },
  "language_info": {
   "codemirror_mode": {
    "name": "ipython",
    "version": 3
   },
   "file_extension": ".py",
   "mimetype": "text/x-python",
   "name": "python",
   "nbconvert_exporter": "python",
   "pygments_lexer": "ipython3",
   "version": "3.8.5"
  }
 },
 "nbformat": 4,
 "nbformat_minor": 4
}
