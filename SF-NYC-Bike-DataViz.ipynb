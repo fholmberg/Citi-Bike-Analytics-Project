{
 "cells": [
  {
   "cell_type": "code",
   "execution_count": 1,
   "metadata": {},
   "outputs": [],
   "source": [
    "from google.cloud import bigquery #need this library to connect the environment to BigQuery\n",
    "import os #to interact with the underlying operating system of my device \n",
    "import altair as alt #data visualization library\n",
    "import numpy as np #mathematical and logical operations\n",
    "import pandas as pd #data manipulation and analysis "
   ]
  },
  {
   "cell_type": "markdown",
   "metadata": {},
   "source": [
    "## Connect the Jupyterlab environment with BigQuery "
   ]
  },
  {
   "cell_type": "code",
   "execution_count": 2,
   "metadata": {},
   "outputs": [],
   "source": [
    "os.environ['GOOGLE_APPLICATION_CREDENTIALS'] ='/Users/felixholmberg/Documents/takehometest-349914-dac2179cc293.json'\n",
    "bigquery_client = bigquery.Client(project='takehometest-349914')"
   ]
  },
  {
   "cell_type": "markdown",
   "metadata": {},
   "source": [
    "## Data Visualization 1\n",
    "\n",
    "Objective of visualization:\n",
    "- Generate a scatter plot to visualize the relationship between the total number of trips\n",
    "against the percentage of the population (age 16 and above) without cars by Zip code.\n",
    "\n",
    "Insights:\n",
    "- The visualization seems to tell us that there is a relationship between the %age of\n",
    "people without cars and the total number of bike trips initiated in those zip codes. ○ This makes sense as people who don't have cars are more likely to use\n",
    "alternative modes of transportation to travel."
   ]
  },
  {
   "cell_type": "markdown",
   "metadata": {},
   "source": [
    "## Import the data from BigQuery"
   ]
  },
  {
   "cell_type": "code",
   "execution_count": 3,
   "metadata": {},
   "outputs": [
    {
     "name": "stdout",
     "output_type": "stream",
     "text": [
      "  zip_code           city  total_trips  no_car_to_population_rate\n",
      "0    10037  New York City         4783                     0.3617\n",
      "1    11215  New York City       242758                     0.3407\n",
      "2    10035  New York City        32832                     0.3169\n",
      "3    94133  San Francisco        23041                     0.2450\n",
      "4    10280  New York City       424322                     0.6174\n"
     ]
    }
   ],
   "source": [
    "QUERY = \"\"\"\n",
    "    SELECT start_station_zip_code as zip_code, start_station_landmark as city,\n",
    "    COUNT(*) AS total_trips, #count the number of trips by Zip Code\n",
    "    ROUND((MAX(start_station_no_car)/ MAX(start_station_pop_16_over)),4) as no_car_to_population_rate #Get the No Car to Population Rate \n",
    "    FROM `takehometest-349914.takehometest.NYC_SF_data_stacked_enhanced_census`\n",
    "    WHERE start_station_no_car > 0 # to avoid BadRequest: 400 division by zero: 0 / 0 errors\n",
    "    AND start_station_pop_16_over > 0 # to avoid BadRequest: 400 division by zero: 0 / 0 errors\n",
    "    GROUP BY start_station_zip_code, start_station_landmark #aggregate by zip code and landmark (city)\n",
    " \"\"\"\n",
    "\n",
    "dataframe = (bigquery_client.query(QUERY).result().to_dataframe(create_bqstorage_client=True,))\n",
    "print(dataframe.head())"
   ]
  },
  {
   "cell_type": "code",
   "execution_count": 4,
   "metadata": {},
   "outputs": [
    {
     "data": {
      "text/plain": [
       "RendererRegistry.enable('jupyterlab')"
      ]
     },
     "execution_count": 4,
     "metadata": {},
     "output_type": "execute_result"
    }
   ],
   "source": [
    "scatter = alt.Chart(dataframe, title ='Relationship between Pct of Population w/o Cars and number of Bike Trips by Zipcode').mark_circle(size=100).encode(\n",
    "    x=alt.X('no_car_to_population_rate', axis=alt.Axis(labels=True, title=\"Pct of Population w/o Cars\", format=\"%\", ticks=True)),\n",
    "    y=alt.Y('total_trips', axis=alt.Axis(labels=True, title=\"Total Trips\", ticks=True)),\n",
    "    size = 'total_trips',\n",
    "    tooltip=[alt.Tooltip('total_trips', title='# Trips'),\n",
    "            alt.Tooltip('no_car_to_population_rate', title='Pct of Population w/o Cars', format=\".2%\"), \n",
    "            alt.Tooltip('zip_code', title ='Zip Code')],\n",
    "    color=alt.Color('no_car_to_population_rate', title=\"Color Coding based on Pct\",\n",
    "                   scale=alt.Scale(range=['red', 'darkgreen']))).interactive().properties(width=600, height=400)\n",
    "\n",
    "scatter.configure_title(fontSize=14)\n",
    "alt.renderers.enable('jupyterlab')"
   ]
  },
  {
   "cell_type": "markdown",
   "metadata": {},
   "source": [
    "## Data visualization 2\n",
    "\n",
    "Objective of visualization:\n",
    "- The purpose of this visualization is to get a better understanding of when the most\n",
    "amount of bike trips occur throughout the year (January to December) and throughout each Day (00:00 to 23:59)\n",
    "\n",
    "Insights trips by Month of the Year:\n",
    "- If we view the graph from a monthly perspective, we will get a solid understanding of\n",
    "when most bike trips occur throughout the year.\n",
    "- The graph is clearly displaying a cluster with a lot of bike activity from April to\n",
    "September. This trend makes sense as these months are generally warmer.\n",
    "\n",
    "Insights trips by Time Of The Day:\n",
    "- The visualization shows that there are two major clusters for when the most bike trip\n",
    "activity occurs throughout the day.\n",
    "- Looking at when most bike trips are initiated, it clearly tells us that the most bike\n",
    "rides are initiated from around 16:00 to 19:00 in the afternoon to evening, or from 07:00 to 09:00 in the morning.\n",
    "- This trend makes sense as these are normally the hours of the day when a majority of people have to go to work, or get out of work.\n"
   ]
  },
  {
   "cell_type": "markdown",
   "metadata": {},
   "source": [
    "## Import the data from BigQuery"
   ]
  },
  {
   "cell_type": "code",
   "execution_count": 5,
   "metadata": {},
   "outputs": [
    {
     "name": "stdout",
     "output_type": "stream",
     "text": [
      "           month  hour  total_trips\n",
      "0      04, April    18       466363\n",
      "1  09, September    18       640900\n",
      "2      03, March     0       101791\n",
      "3       07, July     8       420620\n",
      "4      04, April    10       209493\n"
     ]
    }
   ],
   "source": [
    "QUERY2 = \"\"\"\n",
    "    SELECT CONCAT(FORMAT_DATE(\"%m\", start_date), \", \", FORMAT_DATE(\"%B\", start_date)) AS month,  \n",
    "       EXTRACT(HOUR FROM start_date) AS hour,\n",
    "       COUNT(*) AS total_trips\n",
    "    FROM `takehometest-349914.takehometest.NYC_SF_data_stacked_enhanced_census`\n",
    "    GROUP BY CONCAT(FORMAT_DATE(\"%m\", start_date), \", \", FORMAT_DATE(\"%B\", start_date)),\n",
    "        EXTRACT(HOUR FROM start_date)\n",
    " \"\"\"\n",
    "\n",
    "dataframe2 = (bigquery_client.query(QUERY2).result().to_dataframe(create_bqstorage_client=True,))\n",
    "print(dataframe2.head())"
   ]
  },
  {
   "cell_type": "code",
   "execution_count": 6,
   "metadata": {},
   "outputs": [
    {
     "data": {
      "text/plain": [
       "RendererRegistry.enable('jupyterlab')"
      ]
     },
     "execution_count": 6,
     "metadata": {},
     "output_type": "execute_result"
    }
   ],
   "source": [
    "heatmap = alt.Chart(dataframe2, title = 'Relationship between Month and number of bike trips by hour of the day').mark_rect(size=100).encode(\n",
    "    x = alt.X('hour:O', #ordinal\n",
    "             axis=alt.Axis(labels=True, title=\"Hour of the Day\", ticks=True)),\n",
    "    y = alt.Y('month:O', #ordinal\n",
    "              axis=alt.Axis(labels=True, title=\"\", ticks=True),\n",
    "              sort=alt.SortField(\n",
    "              field='month',\n",
    "              order=\"descending\")),\n",
    "    color = alt.Color('total_trips', title='Total Trips'),\n",
    "    tooltip=[alt.Tooltip('total_trips', title='# Trips'),\n",
    "            alt.Tooltip('month', title='Month'),\n",
    "            alt.Tooltip('hour', title='Hour')]).interactive().properties(width=600, height=450)\n",
    "heatmap.configure_title(fontSize=14)\n",
    "alt.renderers.enable('jupyterlab')"
   ]
  },
  {
   "cell_type": "markdown",
   "metadata": {},
   "source": [
    "## Data visualization 3\n",
    "\n",
    "Objective of visualization:\n",
    "- The purpose of this visualization is to compare the frequency of bike rides throughout the\n",
    "week, and to see how bike trip behavior might differ between New York City and San Francisco.\n",
    "\n",
    "Insights:\n",
    "- The chart tells us that both cities are experiencing a drop-off in activity during the\n",
    "weekend. Furthermore, one observation that is interesting for both cities, is that the average duration of trips see an increase over the weekend. This is likely due to the fact that people on the weekends may be more likely to use bikes for leisure, while users during the week might use the bike to get around the city quickly for work or get from point A to B.\n",
    "\n",
    "\n",
    "\n"
   ]
  },
  {
   "cell_type": "code",
   "execution_count": 7,
   "metadata": {},
   "outputs": [
    {
     "name": "stdout",
     "output_type": "stream",
     "text": [
      "  weekday_name_full           city  avg_trip_duration_mins  total_trips\n",
      "0         1, Monday  New York City                    14.9      7407881\n",
      "1         5, Friday  San Francisco                    15.4       139476\n",
      "2       6, Saturday  San Francisco                    35.7        53315\n",
      "3       4, Thursday  New York City                    14.7      8007790\n",
      "4         5, Friday  New York City                    15.3      7623992\n"
     ]
    }
   ],
   "source": [
    "QUERY3 = \"\"\"\n",
    "    SELECT CONCAT(FORMAT_DATE('%u', start_date), ', ', FORMAT_DATE('%A', start_date))  AS weekday_name_full, \n",
    "        start_station_landmark AS city, \n",
    "        ROUND((SUM(trip_duration)-MAX(trip_duration))/(COUNT(trip_duration)-1)/60,1) AS avg_trip_duration_mins,\n",
    "        COUNT(*) AS total_trips\n",
    "    FROM `takehometest-349914.takehometest.NYC_SF_data_stacked_enhanced_census`\n",
    "    WHERE start_station_landmark in(\"San Francisco\", \"New York City\")\n",
    "    GROUP BY CONCAT(FORMAT_DATE('%u', start_date), ', ', FORMAT_DATE('%A', start_date)), start_station_landmark\n",
    " \"\"\"\n",
    "\n",
    "dataframe3 = (bigquery_client.query(QUERY3).result().to_dataframe(create_bqstorage_client=True,))\n",
    "print(dataframe3.head())"
   ]
  },
  {
   "cell_type": "code",
   "execution_count": 8,
   "metadata": {},
   "outputs": [
    {
     "data": {
      "text/plain": [
       "RendererRegistry.enable('jupyterlab')"
      ]
     },
     "execution_count": 8,
     "metadata": {},
     "output_type": "execute_result"
    }
   ],
   "source": [
    "nyc = dataframe3[dataframe3['city']=='New York City'] #create one df for NYC\n",
    "sf = dataframe3[dataframe3['city']=='San Francisco'] #create one df for SF\n",
    "\n",
    "base_sf = alt.Chart(sf, title='SF Bike Trips Insights').encode(\n",
    "    alt.X('weekday_name_full', axis=alt.Axis(title=None))\n",
    ")\n",
    "\n",
    "bar_sf = base_sf.mark_bar(opacity=0.4, color='#57A44C', size=20).transform_fold(\n",
    "    fold=['total_trips'], \n",
    "    as_=['variable', 'value']\n",
    ").encode(\n",
    "    alt.Y('total_trips', axis=alt.Axis(title='Total Number of Trips')), tooltip=[alt.Tooltip('total_trips', title='Total Number of Trips')]\n",
    ")\n",
    "\n",
    "line_sf = base_sf.mark_line(stroke='#5276A7', interpolate='monotone', point=alt.OverlayMarkDef(color=\"red\")).encode(\n",
    "    alt.Y('avg_trip_duration_mins',axis=alt.Axis(title='Avg. Duration (mins)')),   tooltip=[alt.Tooltip('avg_trip_duration_mins', title='Avg. Duration (mins)')]\n",
    ")\n",
    "\n",
    "chart_sf = alt.layer(bar_sf, line_sf).resolve_scale(y='independent').properties(width=350, height=200)\n",
    "\n",
    "base_nyc = alt.Chart(nyc, title='NYC Bike Trips Insights').encode(\n",
    "    alt.X('weekday_name_full', axis=alt.Axis(title=None))\n",
    ")\n",
    "\n",
    "bar_nyc = base_nyc.mark_bar(opacity=0.4, color='#57A44C', size=20).encode(\n",
    "    alt.Y('total_trips', axis=alt.Axis(title='Total Number of Trips')), tooltip=[alt.Tooltip('total_trips', title='Total Number of Trips')]\n",
    ")\n",
    "\n",
    "line_nyc = base_nyc.mark_line(stroke='#5276A7', interpolate='monotone', point=alt.OverlayMarkDef(color=\"red\")).encode(\n",
    "    alt.Y('avg_trip_duration_mins',axis=alt.Axis(title='Avg. Duration (mins)')),   tooltip=[alt.Tooltip('avg_trip_duration_mins', title='Avg. Duration (mins)')]\n",
    ")\n",
    "\n",
    "chart_nyc = alt.layer(bar_nyc, line_nyc).resolve_scale(y='independent').properties(width=350, height=200)\n",
    "\n",
    "alt.vconcat(chart_nyc, chart_sf)\n",
    "alt.renderers.enable('jupyterlab')"
   ]
  },
  {
   "cell_type": "code",
   "execution_count": null,
   "metadata": {},
   "outputs": [],
   "source": []
  }
 ],
 "metadata": {
  "kernelspec": {
   "display_name": "Python 3",
   "language": "python",
   "name": "python3"
  },
  "language_info": {
   "codemirror_mode": {
    "name": "ipython",
    "version": 3
   },
   "file_extension": ".py",
   "mimetype": "text/x-python",
   "name": "python",
   "nbconvert_exporter": "python",
   "pygments_lexer": "ipython3",
   "version": "3.8.5"
  }
 },
 "nbformat": 4,
 "nbformat_minor": 4
}
